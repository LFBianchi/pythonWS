{
 "cells": [
  {
   "cell_type": "markdown",
   "metadata": {},
   "source": [
    "<h1>Evolution AI: Bechdel Test Task</h1>"
   ]
  },
  {
   "cell_type": "markdown",
   "metadata": {},
   "source": [
    "<p>\n",
    "    We are interested in looking for movies that pass the Bechdel test (https://en.wikipedia.org/wiki/Bechdel_test). We've found a website that has a large collection of movie scripts - http://www.imsdb.com/.<br/>\n",
    "We would like you to scrape a few hundred scripts from this website (doesn't have to be all of them), and look for instances where a female character is talking to another female character.  Produce some statistics for the movies you have data for, that you think would be relevant to the Bechdel test.\n",
    "</p>"
   ]
  },
  {
   "cell_type": "markdown",
   "metadata": {},
   "source": [
    "<h2>Solution</h2>"
   ]
  },
  {
   "cell_type": "markdown",
   "metadata": {},
   "source": [
    "<p>To complete this assignment I have divided it in three parts:</p>\n",
    "<ol>\n",
    "    <li>Scrape Data from IMSB and clean it;</li>\n",
    "    <li>Perform the Bechdel Test on the Data;</li>\n",
    "    <li>Analyze the Data.</li>\n",
    "</ol>"
   ]
  },
  {
   "cell_type": "markdown",
   "metadata": {},
   "source": [
    "<h3>Scrapping the Data</h3>\n",
    "<p>\n",
    "    To do the scraping I've chosen to use the requests module along with the BeutifulSoup module, the first one handles http requests to URLs and the second one parses the requested document for specific data.\n",
    "</p>"
   ]
  },
  {
   "cell_type": "code",
   "execution_count": 4,
   "metadata": {},
   "outputs": [],
   "source": [
    "import requests\n",
    "from bs4 import BeautifulSoup"
   ]
  },
  {
   "cell_type": "markdown",
   "metadata": {},
   "source": [
    "<p>\n",
    "    Looking at the raw html data for the sample script for the movie \"Forrest Gump\", we can see that all the data related to the script is stored in the class \"scrtext\", the titles of the scenes and names of the characters are always represented with the bold tag. The clear line breaks after the scene names and character names make the document suitable for Python's open() function. \n",
    "</p>"
   ]
  },
  {
   "cell_type": "raw",
   "metadata": {},
   "source": [
    "<td class=\"scrtext\">\n",
    "\n",
    "<pre>\n",
    "\n",
    "<title>\"FORREST GUMP\" -- by Eric Roth</title>\n",
    "\n",
    "\n",
    "\n",
    "</pre><br>\n",
    "<pre><b>                                      \"FORREST GUMP\"\n",
    "</b>"
   ]
  },
  {
   "cell_type": "markdown",
   "metadata": {},
   "source": [
    "<p>\n",
    "    The class BechTest handles a single URL. The Get method is used to receive the raw html from the URL and the Beutifull\n",
    "</p>"
   ]
  },
  {
   "cell_type": "code",
   "execution_count": null,
   "metadata": {},
   "outputs": [],
   "source": [
    "class BechTest():\n",
    "    \n",
    "    def __init__(self, URL):\n",
    "        self.f_names = []\n",
    "        for name in open('files/female.txt', 'r'):\n",
    "            self.f_names.append(name.rstrip())\n",
    "        \n",
    "        print(URL)\n",
    "        page = requests.get(URL)\n",
    "        soup = BeautifulSoup(page.content, 'html.parser')\n",
    "        \n",
    "        results = soup.find('td', class_='scrtext').prettify()\n",
    "        results = results.replace('</b>', '').replace('<pre>', '').split('\\n')[1:] #Delete the noise from the first line.\n",
    "        self.script = results[:-1] #Delete the noise from the last line.\n",
    "        \n",
    "        self.blines = []\n",
    "        for line in self.script:\n",
    "            if line.startswith('<b>'):\n",
    "                self.blines.append(line.replace('<b>', '').lstrip())\n",
    "        \n",
    "    def isBechdel(self):\n",
    "        n_scene = True  #Go to next scene\n",
    "        parser = iter(self.blines)\n",
    "        if len(self.blines) < 10:\n",
    "            raise Exception(\"Invalid Script\")\n",
    "        curr = next(parser).capitalize().rstrip()\n",
    "        fs_in_scene = set()\n",
    "    \n",
    "        try:\n",
    "            while True:\n",
    "                #print(\"Evaluating: %s, next scene: %s\" % (curr, n_scene)) \n",
    "                if n_scene:\n",
    "                    while True:\n",
    "                        if curr in self.f_names:\n",
    "                            n_scene = False\n",
    "                            break\n",
    "                        #print(\"Evaluating: %s, next scene: %s\" % (curr, n_scene)) \n",
    "                        curr = next(parser).capitalize().rstrip()\n",
    "                    continue\n",
    "                \n",
    "                else:\n",
    "                    if curr in self.f_names:\n",
    "                        fs_in_scene.add(curr.rstrip())\n",
    "                        if len(fs_in_scene) > 1:\n",
    "                            return True         \n",
    "                    else:\n",
    "                        n_scene = True\n",
    "                            \n",
    "                curr = next(parser).capitalize().rstrip()\n",
    "                \n",
    "        except StopIteration:\n",
    "            return False  "
   ]
  }
 ],
 "metadata": {
  "kernelspec": {
   "display_name": "Python 3",
   "language": "python",
   "name": "python3"
  },
  "language_info": {
   "codemirror_mode": {
    "name": "ipython",
    "version": 3
   },
   "file_extension": ".py",
   "mimetype": "text/x-python",
   "name": "python",
   "nbconvert_exporter": "python",
   "pygments_lexer": "ipython3",
   "version": "3.8.5"
  }
 },
 "nbformat": 4,
 "nbformat_minor": 4
}
