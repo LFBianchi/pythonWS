{
 "cells": [
  {
   "cell_type": "markdown",
   "metadata": {},
   "source": [
    "<h1>Evolution AI: Bechdel Test Task</h1>"
   ]
  },
  {
   "cell_type": "markdown",
   "metadata": {},
   "source": [
    "<p>\n",
    "    We are interested in looking for movies that pass the Bechdel test (https://en.wikipedia.org/wiki/Bechdel_test). We've found a website that has a large collection of movie scripts - http://www.imsdb.com/.<br/>\n",
    "We would like you to scrape a few hundred scripts from this website (doesn't have to be all of them), and look for instances where a female character is talking to another female character.  Produce some statistics for the movies you have data for, that you think would be relevant to the Bechdel test.\n",
    "</p>"
   ]
  },
  {
   "cell_type": "markdown",
   "metadata": {},
   "source": [
    "<h2>Solution</h2>"
   ]
  },
  {
   "cell_type": "markdown",
   "metadata": {},
   "source": [
    "<p>To complete this assignment I have divided it in three parts:</p>\n",
    "<ol>\n",
    "    <li>Scrape Data from IMSB and clean it;</li>\n",
    "    <li>Perform the Bechdel Test on the Data;</li>\n",
    "    <li>Analyze the Data.</li>\n",
    "</ol>"
   ]
  },
  {
   "cell_type": "markdown",
   "metadata": {},
   "source": [
    "<h3>Scraping the Data</h3>\n",
    "<p>\n",
    "    To do the scraping I've chosen to use the requests module along with the BeautifulSoup module, the first one handles http requests to URLs and the second one parses the requested document for specific data.\n",
    "</p>"
   ]
  },
  {
   "cell_type": "code",
   "execution_count": 1,
   "metadata": {},
   "outputs": [],
   "source": [
    "import requests\n",
    "from bs4 import BeautifulSoup"
   ]
  },
  {
   "cell_type": "markdown",
   "metadata": {},
   "source": [
    "<p>\n",
    "    Looking at the raw html data for the sample script for the movie \"Forrest Gump\", we can see that all the data related to the script is stored in the class \"scrtext\", the titles of the scenes and names of the characters are always represented with the bold tag. The clear line breaks after the scene names and character names make the document suitable for Python's open() function. \n",
    "</p>"
   ]
  },
  {
   "cell_type": "raw",
   "metadata": {},
   "source": [
    "<td class=\"scrtext\">\n",
    "\n",
    "<pre>\n",
    "\n",
    "<title>\"FORREST GUMP\" -- by Eric Roth</title>\n",
    "\n",
    "\n",
    "\n",
    "</pre><br>\n",
    "<pre><b>                                      \"FORREST GUMP\"\n",
    "</b>"
   ]
  },
  {
   "cell_type": "markdown",
   "metadata": {},
   "source": [
    "<p>\n",
    "    The class BechTest handles a single URL. The Get method is used to receive the raw html from the URL and BeautifullSoup is used to extract only the \"scrtext\" class of the html document.<br>\n",
    "    After some html tag cleaning we are able to generate a list of all the lines that were marked with the bold tag (blines), which indicates either a camera transition, a change in the scene or the subject we are interested in, a character's line.\n",
    "    All the computation mentioned above is done in the constructor method.\n",
    "</p>"
   ]
  },
  {
   "cell_type": "code",
   "execution_count": 3,
   "metadata": {},
   "outputs": [],
   "source": [
    "class BechTest():\n",
    "    \n",
    "    def __init__(self, URL):\n",
    "        self.f_names = []\n",
    "        self.m_names = []\n",
    "        for name in open('files/female.txt', 'r'):\n",
    "            self.f_names.append(name.rstrip())\n",
    "        for name in open('files/male.txt', 'r'):\n",
    "            self.m_names.append(name.rstrip())\n",
    "        \n",
    "        #print(URL)\n",
    "        page = requests.get(URL)\n",
    "        soup = BeautifulSoup(page.content, 'html.parser')\n",
    "        \n",
    "        results = soup.find('td', class_='scrtext').prettify()\n",
    "        results = results.replace('</b>', '').replace('<pre>', '').split('\\n')[1:] #Delete the noise from the first line.\n",
    "        self.script = results[:-1] #Delete the noise from the last line.\n",
    "        \n",
    "        self.blines = []\n",
    "        for line in self.script:\n",
    "            if line.startswith('<b>'):\n",
    "                self.blines.append(line.replace('<b>', '').lstrip())\n",
    "        \n",
    "    def isBechdel(self):\n",
    "        n_scene = True  #Go to next scene\n",
    "        parser = iter(self.blines)\n",
    "        if len(self.blines) < 10:\n",
    "            raise Exception(\"Invalid Script\")\n",
    "        curr = next(parser).capitalize().rstrip()\n",
    "        fs_in_scene = set()\n",
    "    \n",
    "        try:\n",
    "            while True:\n",
    "                #print(\"Evaluating: %s, next scene: %s\" % (curr, n_scene)) \n",
    "                if n_scene:\n",
    "                    while True:\n",
    "                        if curr in self.f_names:\n",
    "                            n_scene = False\n",
    "                            break\n",
    "                        #print(\"Evaluating: %s, next scene: %s\" % (curr, n_scene)) \n",
    "                        curr = next(parser).capitalize().rstrip()\n",
    "                    continue\n",
    "                \n",
    "                else:\n",
    "                    if curr in self.f_names:\n",
    "                        fs_in_scene.add(curr.rstrip())\n",
    "                        if len(fs_in_scene) > 1:\n",
    "                            return True\n",
    "                    elif curr in self.m_names:\n",
    "                        None\n",
    "                    else:\n",
    "                        n_scene = True\n",
    "                            \n",
    "                curr = next(parser).capitalize().rstrip()\n",
    "                \n",
    "        except StopIteration:\n",
    "            return False  "
   ]
  },
  {
   "cell_type": "markdown",
   "metadata": {},
   "source": [
    "<h3>Performing the Bechdel Test</h3>\n",
    "<p>\n",
    "    The approach I've taken to implement the bechdel test (or .isBechdel()) is simple: we create an iterator on the blines list and evaluate each item, if the item indicates a screen transition we fastfoward to the next female line in the script. If that female line is followed by a screen transition we fastfoward to the next female line until we get at least two named female characters with lines in a single scene, we are guarded from repetition by storing the females in scene in a set. There are mixed rules about the presence of male characters in the scenes, so if we find a male character in the middle of a scene we just ignore it.<br/>\n",
    "    To understand if the character is male of female the name of the character is run against a list of more than 5000 female names in the 'females.txt' file, the list was obtained at the NLP corpora of the CMU AI repository: <a href=\"http://www.cs.cmu.edu/afs/cs/project/ai-repository/ai/areas/nlp/corpora/names/\">http://www.cs.cmu.edu/afs/cs/project/ai-repository/ai/areas/nlp/corpora/names/</a>.\n",
    "</p>"
   ]
  },
  {
   "cell_type": "markdown",
   "metadata": {},
   "source": [
    "<p>\n",
    "    Next, to obtain the list of scripts to test against the .isBechdel() method, I've extracted the text using copy and paste from the url <a href=\"https://imsdb.com/all-scripts.html\">https://imsdb.com/all-scripts.html</a> and saved it in the \"script-list.txt\" file, but the text that was extracted had some noise, such as blank lines and author name lines. In order to parse it effectively we need only the movie titles with hifen separation (Forrest-Gump), to do that we use the following script, which will save the script names in the \"clean-scripts.txt\" file.\n",
    "</p>"
   ]
  },
  {
   "cell_type": "code",
   "execution_count": 4,
   "metadata": {},
   "outputs": [],
   "source": [
    "file = open('files/script-list.txt', 'r')\n",
    "writef = open('files/clean-scripts.txt', 'w')\n",
    "\n",
    "for line in file:\n",
    "    if not line.startswith('Written'):\n",
    "        if not line.startswith('\\n'):\n",
    "            clean_line = line[:line.find('(') - 1]\n",
    "            script_endpoint = '-'.join(clean_line.split(' '))\n",
    "            writef.write(script_endpoint.rstrip() +'\\n')"
   ]
  },
  {
   "cell_type": "markdown",
   "metadata": {},
   "source": [
    "<p>\n",
    "    Finally, to run a smaller but representative sample of the list we just generated against .isBechdel(), we can use the random module to shuffle the list and then run the tests for the first 500 results. The results are saved in the file \"results.csv\".\n",
    "</p>"
   ]
  },
  {
   "cell_type": "code",
   "execution_count": 5,
   "metadata": {},
   "outputs": [],
   "source": [
    "import random\n",
    "\n",
    "endpoint_list = list(open('files/clean-scripts.txt', 'r'))\n",
    "results = open('files/results.csv', 'w')\n",
    "\n",
    "random.shuffle(endpoint_list) #Randomize the list of movies.\n",
    "\n",
    "#For the 500 first random results, we will create a new object and perform the isBechdel test, then save the \n",
    "#results to the results.csv file.\n",
    "for endpoint in endpoint_list[:500]:\n",
    "    url = 'https://imsdb.com/scripts/' + endpoint.rstrip() + '.html'\n",
    "    try:\n",
    "        bech = BechTest(url)\n",
    "        results.write(endpoint.rstrip() + ';' + str(bech.isBechdel()) + '\\n')\n",
    "    except:\n",
    "        #print(\"invalid-url or error-in-script\")\n",
    "        continue"
   ]
  },
  {
   "cell_type": "markdown",
   "metadata": {},
   "source": [
    "<h3>Analyzing the Data</h3>\n",
    "<p>\n",
    "    To process the results we can use pandas.\n",
    "</p>"
   ]
  },
  {
   "cell_type": "code",
   "execution_count": 6,
   "metadata": {},
   "outputs": [],
   "source": [
    "import pandas as pd"
   ]
  },
  {
   "cell_type": "code",
   "execution_count": 7,
   "metadata": {},
   "outputs": [],
   "source": [
    "df = pd.read_csv('files/results.csv', delimiter=\";\")\n",
    "df.columns = [\"movie\", \"bechdel\"]"
   ]
  },
  {
   "cell_type": "code",
   "execution_count": 14,
   "metadata": {},
   "outputs": [
    {
     "name": "stdout",
     "output_type": "stream",
     "text": [
      "We checked 422 scripts.\n",
      "382 scripts passed the test.\n",
      "40 scripts didn't pass the test.\n",
      "The rate of approval was : 90.52 percent\n"
     ]
    }
   ],
   "source": [
    "print(\"We checked %s scripts.\" % len(df))\n",
    "bechdel = [result for result in df.bechdel if result]\n",
    "print(\"%s scripts passed the test.\" % len(bechdel))\n",
    "nope = len(df) - len(bechdel)\n",
    "print(\"%s scripts didn't pass the test.\" % nope)\n",
    "percent = (len(bechdel) / len(df)) * 100\n",
    "print(\"The rate of approval was : %.2f percent\" % percent)"
   ]
  },
  {
   "cell_type": "markdown",
   "metadata": {},
   "source": [
    "<p>\n",
    "    As we can see, discarting URL related problems, we came just over 400 movie scripts analyzed; of those, only 40 didn't pass the Bechdel test. That is not the ammount expected for the end result.<br/>\n",
    "    As it says in the Wikipedia article of the Bechdel test (<a href=\"https://en.wikipedia.org/wiki/Bechdel_test\">https://en.wikipedia.org/wiki/Bechdel_test</a>), about half of all films pass the criteria.<br/>\n",
    "    This is probably because one of the most important requirements of the Bechdel test is that the women do not talk about a man during the in-scene exchange. Because the test didn't account for that we are off by more than 25 percentage points from the target value. To correct that problem we would need to modify the code to take that into account, maybe looking for keywords related to men like \"him\", \"his\" or even man names.   \n",
    "</p>"
   ]
  },
  {
   "cell_type": "code",
   "execution_count": null,
   "metadata": {},
   "outputs": [],
   "source": []
  }
 ],
 "metadata": {
  "kernelspec": {
   "display_name": "Python 3",
   "language": "python",
   "name": "python3"
  },
  "language_info": {
   "codemirror_mode": {
    "name": "ipython",
    "version": 3
   },
   "file_extension": ".py",
   "mimetype": "text/x-python",
   "name": "python",
   "nbconvert_exporter": "python",
   "pygments_lexer": "ipython3",
   "version": "3.8.5"
  }
 },
 "nbformat": 4,
 "nbformat_minor": 4
}
